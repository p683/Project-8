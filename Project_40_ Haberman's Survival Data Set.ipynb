{
 "cells": [
  {
   "cell_type": "markdown",
   "metadata": {},
   "source": [
    "# Haberman's Survival Data Set"
   ]
  },
  {
   "cell_type": "markdown",
   "metadata": {},
   "source": [
    "Dataset contains cases from study conducted on the survival of patients who had undergone surgery for breast cancer"
   ]
  },
  {
   "cell_type": "code",
   "execution_count": 1,
   "metadata": {},
   "outputs": [],
   "source": [
    "# Importing the Libraries\n",
    "# data processing, CSV file I/O (e.g. pd.read_csv)\n",
    "import pandas as pd\n",
    "# linear algebra\n",
    "import numpy as np\n",
    "import matplotlib.pyplot as plt\n",
    "%matplotlib inline\n",
    "import seaborn as sns\n",
    "import warnings\n",
    "warnings.filterwarnings(\"ignore\")"
   ]
  },
  {
   "cell_type": "code",
   "execution_count": 2,
   "metadata": {},
   "outputs": [
    {
     "data": {
      "text/html": [
       "<div>\n",
       "<style scoped>\n",
       "    .dataframe tbody tr th:only-of-type {\n",
       "        vertical-align: middle;\n",
       "    }\n",
       "\n",
       "    .dataframe tbody tr th {\n",
       "        vertical-align: top;\n",
       "    }\n",
       "\n",
       "    .dataframe thead th {\n",
       "        text-align: right;\n",
       "    }\n",
       "</style>\n",
       "<table border=\"1\" class=\"dataframe\">\n",
       "  <thead>\n",
       "    <tr style=\"text-align: right;\">\n",
       "      <th></th>\n",
       "      <th>age</th>\n",
       "      <th>treatment_year</th>\n",
       "      <th>axillary nodes</th>\n",
       "      <th>Survival</th>\n",
       "    </tr>\n",
       "  </thead>\n",
       "  <tbody>\n",
       "    <tr>\n",
       "      <th>0</th>\n",
       "      <td>30</td>\n",
       "      <td>64</td>\n",
       "      <td>1</td>\n",
       "      <td>1</td>\n",
       "    </tr>\n",
       "    <tr>\n",
       "      <th>1</th>\n",
       "      <td>30</td>\n",
       "      <td>62</td>\n",
       "      <td>3</td>\n",
       "      <td>1</td>\n",
       "    </tr>\n",
       "    <tr>\n",
       "      <th>2</th>\n",
       "      <td>30</td>\n",
       "      <td>65</td>\n",
       "      <td>0</td>\n",
       "      <td>1</td>\n",
       "    </tr>\n",
       "    <tr>\n",
       "      <th>3</th>\n",
       "      <td>31</td>\n",
       "      <td>59</td>\n",
       "      <td>2</td>\n",
       "      <td>1</td>\n",
       "    </tr>\n",
       "    <tr>\n",
       "      <th>4</th>\n",
       "      <td>31</td>\n",
       "      <td>65</td>\n",
       "      <td>4</td>\n",
       "      <td>1</td>\n",
       "    </tr>\n",
       "  </tbody>\n",
       "</table>\n",
       "</div>"
      ],
      "text/plain": [
       "   age  treatment_year  axillary nodes  Survival\n",
       "0   30              64               1         1\n",
       "1   30              62               3         1\n",
       "2   30              65               0         1\n",
       "3   31              59               2         1\n",
       "4   31              65               4         1"
      ]
     },
     "execution_count": 2,
     "metadata": {},
     "output_type": "execute_result"
    }
   ],
   "source": [
    "# Importing the dataset\n",
    "data = pd.read_csv(\"C:\\\\Users\\\\PUNEET SINGH\\\\haberman.csv\",header=None,names=['age','treatment_year',\n",
    "                                                                             'axillary nodes','Survival'])\n",
    "data.head()"
   ]
  },
  {
   "cell_type": "code",
   "execution_count": 3,
   "metadata": {},
   "outputs": [
    {
     "data": {
      "text/html": [
       "<div>\n",
       "<style scoped>\n",
       "    .dataframe tbody tr th:only-of-type {\n",
       "        vertical-align: middle;\n",
       "    }\n",
       "\n",
       "    .dataframe tbody tr th {\n",
       "        vertical-align: top;\n",
       "    }\n",
       "\n",
       "    .dataframe thead th {\n",
       "        text-align: right;\n",
       "    }\n",
       "</style>\n",
       "<table border=\"1\" class=\"dataframe\">\n",
       "  <thead>\n",
       "    <tr style=\"text-align: right;\">\n",
       "      <th></th>\n",
       "      <th>age</th>\n",
       "      <th>treatment_year</th>\n",
       "      <th>axillary nodes</th>\n",
       "      <th>Survival</th>\n",
       "    </tr>\n",
       "  </thead>\n",
       "  <tbody>\n",
       "    <tr>\n",
       "      <th>count</th>\n",
       "      <td>306.000000</td>\n",
       "      <td>306.000000</td>\n",
       "      <td>306.000000</td>\n",
       "      <td>306.000000</td>\n",
       "    </tr>\n",
       "    <tr>\n",
       "      <th>mean</th>\n",
       "      <td>52.457516</td>\n",
       "      <td>62.852941</td>\n",
       "      <td>4.026144</td>\n",
       "      <td>1.264706</td>\n",
       "    </tr>\n",
       "    <tr>\n",
       "      <th>std</th>\n",
       "      <td>10.803452</td>\n",
       "      <td>3.249405</td>\n",
       "      <td>7.189654</td>\n",
       "      <td>0.441899</td>\n",
       "    </tr>\n",
       "    <tr>\n",
       "      <th>min</th>\n",
       "      <td>30.000000</td>\n",
       "      <td>58.000000</td>\n",
       "      <td>0.000000</td>\n",
       "      <td>1.000000</td>\n",
       "    </tr>\n",
       "    <tr>\n",
       "      <th>25%</th>\n",
       "      <td>44.000000</td>\n",
       "      <td>60.000000</td>\n",
       "      <td>0.000000</td>\n",
       "      <td>1.000000</td>\n",
       "    </tr>\n",
       "    <tr>\n",
       "      <th>50%</th>\n",
       "      <td>52.000000</td>\n",
       "      <td>63.000000</td>\n",
       "      <td>1.000000</td>\n",
       "      <td>1.000000</td>\n",
       "    </tr>\n",
       "    <tr>\n",
       "      <th>75%</th>\n",
       "      <td>60.750000</td>\n",
       "      <td>65.750000</td>\n",
       "      <td>4.000000</td>\n",
       "      <td>2.000000</td>\n",
       "    </tr>\n",
       "    <tr>\n",
       "      <th>max</th>\n",
       "      <td>83.000000</td>\n",
       "      <td>69.000000</td>\n",
       "      <td>52.000000</td>\n",
       "      <td>2.000000</td>\n",
       "    </tr>\n",
       "  </tbody>\n",
       "</table>\n",
       "</div>"
      ],
      "text/plain": [
       "              age  treatment_year  axillary nodes    Survival\n",
       "count  306.000000      306.000000      306.000000  306.000000\n",
       "mean    52.457516       62.852941        4.026144    1.264706\n",
       "std     10.803452        3.249405        7.189654    0.441899\n",
       "min     30.000000       58.000000        0.000000    1.000000\n",
       "25%     44.000000       60.000000        0.000000    1.000000\n",
       "50%     52.000000       63.000000        1.000000    1.000000\n",
       "75%     60.750000       65.750000        4.000000    2.000000\n",
       "max     83.000000       69.000000       52.000000    2.000000"
      ]
     },
     "execution_count": 3,
     "metadata": {},
     "output_type": "execute_result"
    }
   ],
   "source": [
    "# In the data Feature 'Survival' is the Target Varibale and We can see it is a classification Problem.\n",
    "# Summary of the data\n",
    "data.describe()"
   ]
  },
  {
   "cell_type": "code",
   "execution_count": 4,
   "metadata": {},
   "outputs": [
    {
     "name": "stdout",
     "output_type": "stream",
     "text": [
      "<class 'pandas.core.frame.DataFrame'>\n",
      "RangeIndex: 306 entries, 0 to 305\n",
      "Data columns (total 4 columns):\n",
      "age               306 non-null int64\n",
      "treatment_year    306 non-null int64\n",
      "axillary nodes    306 non-null int64\n",
      "Survival          306 non-null int64\n",
      "dtypes: int64(4)\n",
      "memory usage: 9.6 KB\n"
     ]
    }
   ],
   "source": [
    "# Checking the info of the data\n",
    "data.info()"
   ]
  },
  {
   "cell_type": "code",
   "execution_count": 5,
   "metadata": {},
   "outputs": [],
   "source": [
    "# From this info we can see that data type of the data is (int) and there is no null values in the data"
   ]
  },
  {
   "cell_type": "code",
   "execution_count": 6,
   "metadata": {},
   "outputs": [
    {
     "data": {
      "text/plain": [
       "<matplotlib.axes._subplots.AxesSubplot at 0x2a13032d0f0>"
      ]
     },
     "execution_count": 6,
     "metadata": {},
     "output_type": "execute_result"
    },
    {
     "data": {
      "image/png": "[encoded data removed]",
      "text/plain": [
       "<Figure size 432x288 with 1 Axes>"
      ]
     },
     "metadata": {
      "needs_background": "light"
     },
     "output_type": "display_data"
    }
   ],
   "source": [
    "# Checking the value count of the Target variable\n",
    "data['Survival'].value_counts(normalize=True).plot.bar()"
   ]
  },
  {
   "cell_type": "code",
   "execution_count": 7,
   "metadata": {},
   "outputs": [],
   "source": [
    "# From the plot we can see that the data is unbalanced \n",
    "# where  1 = the patient survived 5 years or longer\n",
    "# 2 = the patient died within 5 year"
   ]
  },
  {
   "cell_type": "code",
   "execution_count": 8,
   "metadata": {},
   "outputs": [
    {
     "data": {
      "text/plain": [
       "<matplotlib.axes._subplots.AxesSubplot at 0x2a130486080>"
      ]
     },
     "execution_count": 8,
     "metadata": {},
     "output_type": "execute_result"
    },
    {
     "data": {
      "image/png": "[encoded data removed]",
      "text/plain": [
       "<Figure size 432x288 with 1 Axes>"
      ]
     },
     "metadata": {
      "needs_background": "light"
     },
     "output_type": "display_data"
    }
   ],
   "source": [
    "# Checking for the Normality of the features in the dataset\n",
    "sns.distplot(data['age'])"
   ]
  },
  {
   "cell_type": "code",
   "execution_count": 9,
   "metadata": {},
   "outputs": [],
   "source": [
    "# From the distplot we can see that Feature 'Age' is Normalized"
   ]
  },
  {
   "cell_type": "code",
   "execution_count": 10,
   "metadata": {},
   "outputs": [
    {
     "data": {
      "text/plain": [
       "<matplotlib.axes._subplots.AxesSubplot at 0x2a13042f390>"
      ]
     },
     "execution_count": 10,
     "metadata": {},
     "output_type": "execute_result"
    },
    {
     "data": {
      "image/png": "[encoded data removed]",
      "text/plain": [
       "<Figure size 432x288 with 1 Axes>"
      ]
     },
     "metadata": {
      "needs_background": "light"
     },
     "output_type": "display_data"
    }
   ],
   "source": [
    "sns.distplot(data['treatment_year'])"
   ]
  },
  {
   "cell_type": "code",
   "execution_count": 11,
   "metadata": {},
   "outputs": [],
   "source": [
    "# From the distplot we can see that Feature 'treatment_year' is not normalized but it not skewed also"
   ]
  },
  {
   "cell_type": "code",
   "execution_count": 12,
   "metadata": {},
   "outputs": [
    {
     "data": {
      "text/html": [
       "<div>\n",
       "<style scoped>\n",
       "    .dataframe tbody tr th:only-of-type {\n",
       "        vertical-align: middle;\n",
       "    }\n",
       "\n",
       "    .dataframe tbody tr th {\n",
       "        vertical-align: top;\n",
       "    }\n",
       "\n",
       "    .dataframe thead th {\n",
       "        text-align: right;\n",
       "    }\n",
       "</style>\n",
       "<table border=\"1\" class=\"dataframe\">\n",
       "  <thead>\n",
       "    <tr style=\"text-align: right;\">\n",
       "      <th></th>\n",
       "      <th>age</th>\n",
       "      <th>treatment_year</th>\n",
       "      <th>axillary nodes</th>\n",
       "      <th>Survival</th>\n",
       "    </tr>\n",
       "  </thead>\n",
       "  <tbody>\n",
       "    <tr>\n",
       "      <th>age</th>\n",
       "      <td>1.000000</td>\n",
       "      <td>0.089529</td>\n",
       "      <td>-0.063176</td>\n",
       "      <td>0.067950</td>\n",
       "    </tr>\n",
       "    <tr>\n",
       "      <th>treatment_year</th>\n",
       "      <td>0.089529</td>\n",
       "      <td>1.000000</td>\n",
       "      <td>-0.003764</td>\n",
       "      <td>-0.004768</td>\n",
       "    </tr>\n",
       "    <tr>\n",
       "      <th>axillary nodes</th>\n",
       "      <td>-0.063176</td>\n",
       "      <td>-0.003764</td>\n",
       "      <td>1.000000</td>\n",
       "      <td>0.286768</td>\n",
       "    </tr>\n",
       "    <tr>\n",
       "      <th>Survival</th>\n",
       "      <td>0.067950</td>\n",
       "      <td>-0.004768</td>\n",
       "      <td>0.286768</td>\n",
       "      <td>1.000000</td>\n",
       "    </tr>\n",
       "  </tbody>\n",
       "</table>\n",
       "</div>"
      ],
      "text/plain": [
       "                     age  treatment_year  axillary nodes  Survival\n",
       "age             1.000000        0.089529       -0.063176  0.067950\n",
       "treatment_year  0.089529        1.000000       -0.003764 -0.004768\n",
       "axillary nodes -0.063176       -0.003764        1.000000  0.286768\n",
       "Survival        0.067950       -0.004768        0.286768  1.000000"
      ]
     },
     "execution_count": 12,
     "metadata": {},
     "output_type": "execute_result"
    }
   ],
   "source": [
    "# Finding the Correaltion between the features\n",
    "corr_df  = data.corr()\n",
    "corr_df"
   ]
  },
  {
   "cell_type": "code",
   "execution_count": 13,
   "metadata": {},
   "outputs": [
    {
     "data": {
      "image/png": "[encoded data removed]",
      "text/plain": [
       "<Figure size 576x432 with 2 Axes>"
      ]
     },
     "metadata": {
      "needs_background": "light"
     },
     "output_type": "display_data"
    }
   ],
   "source": [
    "plt.figure(figsize=(8,6),)\n",
    "sns.heatmap(corr_df,annot=True,square=True)\n",
    "plt.show()"
   ]
  },
  {
   "cell_type": "code",
   "execution_count": 14,
   "metadata": {},
   "outputs": [
    {
     "data": {
      "text/plain": [
       "<seaborn.axisgrid.FacetGrid at 0x2a13059ea58>"
      ]
     },
     "execution_count": 14,
     "metadata": {},
     "output_type": "execute_result"
    },
    {
     "data": {
      "image/png": "[encoded data removed]",
      "text/plain": [
       "<Figure size 436.375x360 with 1 Axes>"
      ]
     },
     "metadata": {
      "needs_background": "light"
     },
     "output_type": "display_data"
    }
   ],
   "source": [
    "# From the correlation matrix we can see that feature 'axillary nodes' is negatively corelated to the Feature 'Age'\n",
    "sns.relplot(x = 'age',y='axillary nodes',hue='Survival',data=data)\n",
    "# Finding the relation between between the two features with respect to the Target variable"
   ]
  },
  {
   "cell_type": "code",
   "execution_count": 15,
   "metadata": {},
   "outputs": [],
   "source": [
    "# From the relation plot it is clear that almost every age person is between the 0-10 Axillary nodes"
   ]
  },
  {
   "cell_type": "code",
   "execution_count": 16,
   "metadata": {},
   "outputs": [
    {
     "data": {
      "text/plain": [
       "<matplotlib.axes._subplots.AxesSubplot at 0x2a1308b21d0>"
      ]
     },
     "execution_count": 16,
     "metadata": {},
     "output_type": "execute_result"
    },
    {
     "data": {
      "image/png": "[encoded data removed]",
      "text/plain": [
       "<Figure size 432x288 with 1 Axes>"
      ]
     },
     "metadata": {
      "needs_background": "light"
     },
     "output_type": "display_data"
    }
   ],
   "source": [
    "# Checking the Ouliers in the Feature \n",
    "sns.boxplot(x='age',hue='Survival',data=data,orient=\"v\")"
   ]
  },
  {
   "cell_type": "code",
   "execution_count": 17,
   "metadata": {},
   "outputs": [
    {
     "data": {
      "text/plain": [
       "<matplotlib.axes._subplots.AxesSubplot at 0x2a130984d30>"
      ]
     },
     "execution_count": 17,
     "metadata": {},
     "output_type": "execute_result"
    },
    {
     "data": {
      "image/png": "[encoded data removed]",
      "text/plain": [
       "<Figure size 432x288 with 1 Axes>"
      ]
     },
     "metadata": {
      "needs_background": "light"
     },
     "output_type": "display_data"
    }
   ],
   "source": [
    "sns.boxplot(x='treatment_year',hue='Survival',data=data,orient=\"v\")"
   ]
  },
  {
   "cell_type": "code",
   "execution_count": 18,
   "metadata": {},
   "outputs": [],
   "source": [
    "# Dividing the data into Independent and Dependent variables\n",
    "X = data.drop('Survival',axis=1)\n",
    "# X= Independent variable\n",
    "y = data['Survival']\n",
    "# y = Depedent Variable"
   ]
  },
  {
   "cell_type": "code",
   "execution_count": 19,
   "metadata": {},
   "outputs": [],
   "source": [
    "# Standardizing the data through Standard Scaler\n",
    "# Importing the Library\n",
    "from sklearn.preprocessing import StandardScaler\n",
    "# Splitting the Data into Train,test set\n",
    "# Importing the Libray\n",
    "from sklearn.model_selection import train_test_split"
   ]
  },
  {
   "cell_type": "code",
   "execution_count": 20,
   "metadata": {},
   "outputs": [],
   "source": [
    "X= StandardScaler().fit_transform(X)"
   ]
  },
  {
   "cell_type": "code",
   "execution_count": 21,
   "metadata": {},
   "outputs": [],
   "source": [
    "# Splitting the data\n",
    "X_train,X_test,y_train,y_test = train_test_split(X,y,test_size=0.20,random_state=42,stratify=y,)"
   ]
  },
  {
   "cell_type": "code",
   "execution_count": 22,
   "metadata": {},
   "outputs": [],
   "source": [
    "# Importing the Measure Metrics\n",
    "from sklearn.metrics import accuracy_score,confusion_matrix,classification_report,f1_score"
   ]
  },
  {
   "cell_type": "code",
   "execution_count": 25,
   "metadata": {},
   "outputs": [],
   "source": [
    "# Function for the score measure\n",
    "def score_of_model(y_test,y_pred,X_test, model):\n",
    "    print(\"Accuracy score : \\n\",accuracy_score(y_test,y_pred))\n",
    "    print(\"Confusion Matrix : \\n\",confusion_matrix(y_test,y_pred))\n",
    "    print(\"Classification Report : \\n\",classification_report(y_test,y_pred))"
   ]
  },
  {
   "cell_type": "code",
   "execution_count": 28,
   "metadata": {},
   "outputs": [
    {
     "name": "stdout",
     "output_type": "stream",
     "text": [
      "Accuracy score : \n",
      " 0.6774193548387096\n",
      "Confusion Matrix : \n",
      " [[41  5]\n",
      " [15  1]]\n",
      "Classification Report : \n",
      "               precision    recall  f1-score   support\n",
      "\n",
      "           1       0.73      0.89      0.80        46\n",
      "           2       0.17      0.06      0.09        16\n",
      "\n",
      "   micro avg       0.68      0.68      0.68        62\n",
      "   macro avg       0.45      0.48      0.45        62\n",
      "weighted avg       0.59      0.68      0.62        62\n",
      "\n",
      "None\n"
     ]
    }
   ],
   "source": [
    "# Function of the model\n",
    "def classification_models(X,y):\n",
    "    from sklearn.linear_model import LogisticRegression\n",
    "    lg = LogisticRegression(random_state=42)\n",
    "    lg.fit(X_train,y_train)\n",
    "    y_pred = lg.predict(X_test)\n",
    "    print(score_of_model(y_test, y_pred, X_test, lg))\n",
    "    return lg\n",
    "classification_models = classification_models(X,y)"
   ]
  },
  {
   "cell_type": "markdown",
   "metadata": {},
   "source": [
    "From the report we can see that Accuracy score of the model is 67.7% but as the Data was not balanced\n",
    "So we can consider other measure metrics instead of accuracy score\n",
    "F1 score of the model is good as it is 0.80 % "
   ]
  },
  {
   "cell_type": "code",
   "execution_count": 35,
   "metadata": {},
   "outputs": [
    {
     "name": "stdout",
     "output_type": "stream",
     "text": [
      "Accuracy score : \n",
      " 0.6739130434782609\n",
      "Confusion Matrix : \n",
      " [[57 11]\n",
      " [19  5]]\n",
      "Classification Report : \n",
      "               precision    recall  f1-score   support\n",
      "\n",
      "           1       0.75      0.84      0.79        68\n",
      "           2       0.31      0.21      0.25        24\n",
      "\n",
      "   micro avg       0.67      0.67      0.67        92\n",
      "   macro avg       0.53      0.52      0.52        92\n",
      "weighted avg       0.64      0.67      0.65        92\n",
      "\n",
      "None\n"
     ]
    }
   ],
   "source": [
    "#similarly define a function for random forest regressor\n",
    "from sklearn.ensemble import RandomForestClassifier\n",
    "def RandomForestClassifierModel(X,y):\n",
    "    X_train, X_test, y_train, y_test = train_test_split(X, y,random_state=42, test_size=0.3,stratify=y)\n",
    "    rf = RandomForestClassifier(n_estimators=35,random_state=42)\n",
    "    rf.fit(X_train, y_train)\n",
    "    y_pred = rf.predict(X_test)\n",
    "    print(score_of_model(y_test, y_pred, X_test, rf))\n",
    "    return rf\n",
    "RandomForestClassifierModel = RandomForestClassifierModel(X,y)"
   ]
  },
  {
   "cell_type": "code",
   "execution_count": 36,
   "metadata": {},
   "outputs": [],
   "source": [
    "# We can see that our Logistic Regression model is predicting bette than our Random Forest model"
   ]
  },
  {
   "cell_type": "code",
   "execution_count": 37,
   "metadata": {},
   "outputs": [
    {
     "name": "stdout",
     "output_type": "stream",
     "text": [
      "Accuracy score : \n",
      " 0.6739130434782609\n",
      "Confusion Matrix : \n",
      " [[57 11]\n",
      " [19  5]]\n",
      "Classification Report : \n",
      "               precision    recall  f1-score   support\n",
      "\n",
      "           1       0.75      0.84      0.79        68\n",
      "           2       0.31      0.21      0.25        24\n",
      "\n",
      "   micro avg       0.67      0.67      0.67        92\n",
      "   macro avg       0.53      0.52      0.52        92\n",
      "weighted avg       0.64      0.67      0.65        92\n",
      "\n",
      "None\n"
     ]
    }
   ],
   "source": [
    "#similarly define a function for Decision tree classifier\n",
    "from sklearn.tree import DecisionTreeClassifier\n",
    "def DecisionTreeClassifierModel(X,y):\n",
    "    X_train, X_test, y_train, y_test = train_test_split(X, y,random_state=42, test_size=0.3,stratify=y)\n",
    "    dtc = DecisionTreeClassifier(criterion='entropy',max_depth=5,random_state=42)\n",
    "    dtc.fit(X_train, y_train)\n",
    "    y_pred = dtc.predict(X_test)\n",
    "    print(score_of_model(y_test, y_pred, X_test, dtc))\n",
    "    return dtc\n",
    "DecisionTreeClassifierModel = DecisionTreeClassifierModel(X,y)"
   ]
  },
  {
   "cell_type": "markdown",
   "metadata": {},
   "source": [
    "From the report we can see that \n",
    "Logistic Regression has predicted best among the three models as the F1 score of the Logistic is best"
   ]
  },
  {
   "cell_type": "markdown",
   "metadata": {},
   "source": [
    "HYPERPARAMETER TUNING "
   ]
  },
  {
   "cell_type": "code",
   "execution_count": 45,
   "metadata": {},
   "outputs": [],
   "source": [
    "# Applying the GridSearchCV on the RandomForestModel\n",
    "# Importing the Library\n",
    "from sklearn.model_selection import GridSearchCV\n",
    "# Importing the Random Forest Classifier\n",
    "from sklearn.ensemble import RandomForestClassifier\n",
    "rf = RandomForestClassifier()\n",
    "param = [{'n_estimators':[30,40,50],'criterion':['entropy','gini'],'max_depth':[3,4,5,6,7,8,9]}]\n",
    "grid_search = GridSearchCV(estimator=rf,param_grid=param,scoring='f1',n_jobs=-1)"
   ]
  },
  {
   "cell_type": "code",
   "execution_count": 46,
   "metadata": {},
   "outputs": [
    {
     "name": "stderr",
     "output_type": "stream",
     "text": [
      "C:\\ProgramData\\Anaconda3\\lib\\site-packages\\sklearn\\model_selection\\_search.py:841: DeprecationWarning: The default of the `iid` parameter will change from True to False in version 0.22 and will be removed in 0.24. This will change numeric results when test-set sizes are unequal.\n",
      "  DeprecationWarning)\n"
     ]
    },
    {
     "data": {
      "text/plain": [
       "array([1, 1, 1, 1, 1, 2, 1, 1, 2, 1, 1, 1, 1, 1, 1, 1, 1, 1, 1, 1, 1, 2,\n",
       "       1, 1, 1, 1, 1, 1, 1, 1, 1, 1, 2, 1, 1, 1, 2, 1, 1, 1, 1, 2, 1, 1,\n",
       "       1, 2, 1, 1, 2, 1, 2, 1, 1, 1, 1, 1, 1, 1, 1, 1, 1, 1], dtype=int64)"
      ]
     },
     "execution_count": 46,
     "metadata": {},
     "output_type": "execute_result"
    }
   ],
   "source": [
    "grid_search.fit(X_train,y_train)\n",
    "grid_search.predict(X_test)"
   ]
  },
  {
   "cell_type": "code",
   "execution_count": 47,
   "metadata": {},
   "outputs": [
    {
     "name": "stdout",
     "output_type": "stream",
     "text": [
      "Best score of the model : 0.8452877875476417\n",
      "Best parameter of the model : {'criterion': 'gini', 'max_depth': 4, 'n_estimators': 40}\n"
     ]
    }
   ],
   "source": [
    "print(\"Best score of the model :\",grid_search.best_score_)\n",
    "print(\"Best parameter of the model :\",grid_search.best_params_)"
   ]
  },
  {
   "cell_type": "markdown",
   "metadata": {},
   "source": [
    " We can that after appyling the Hyper parameter Tuning on the Random Forest Classifier\n",
    " \n",
    " f1 score is changed from 79% to 84.5% which is good.\n",
    " best paramters has to  be refit on the Random Forest Classifier Model"
   ]
  },
  {
   "cell_type": "code",
   "execution_count": 52,
   "metadata": {},
   "outputs": [
    {
     "name": "stdout",
     "output_type": "stream",
     "text": [
      "Accuracy score : \n",
      " 0.7903225806451613\n",
      "Confusion Matrix : \n",
      " [[44  2]\n",
      " [11  5]]\n",
      "Classification Report : \n",
      "               precision    recall  f1-score   support\n",
      "\n",
      "           1       0.80      0.96      0.87        46\n",
      "           2       0.71      0.31      0.43        16\n",
      "\n",
      "   micro avg       0.79      0.79      0.79        62\n",
      "   macro avg       0.76      0.63      0.65        62\n",
      "weighted avg       0.78      0.79      0.76        62\n",
      "\n",
      "None\n"
     ]
    }
   ],
   "source": [
    "# Refitting the paramters\n",
    "from sklearn.ensemble import RandomForestClassifier\n",
    "def RandomForestClassifierModel(X,y):\n",
    "    X_train, X_test, y_train, y_test = train_test_split(X, y, test_size=0.2,stratify=y)\n",
    "    rf = RandomForestClassifier(n_estimators=40,criterion='gini', max_depth= 4)\n",
    "    rf.fit(X_train, y_train)\n",
    "    y_pred = rf.predict(X_test)\n",
    "    print(score_of_model(y_test, y_pred, X_test, rf))\n",
    "    return rf\n",
    "RandomForestClassifierModel = RandomForestClassifierModel(X,y)"
   ]
  },
  {
   "cell_type": "code",
   "execution_count": 53,
   "metadata": {},
   "outputs": [],
   "source": [
    "# from hyper paramter tuning we can also see that accuracy score of the model changed from 67.3 % to 79.03 % which is almost \n",
    "# equal to 80% which is very good \n",
    "# Saving the best Model \n",
    "# Saving the Random Forest Model as it has predicted the best \n",
    "# Importing Pickle\n",
    "import pickle\n",
    "filehandler = open(\"Project_40.obj\",\"wb\")\n",
    "# saving the model in pickel string\n",
    "saved_rf_model = pickle.dump(rf,filehandler)\n",
    "filehandler.close()"
   ]
  },
  {
   "cell_type": "code",
   "execution_count": null,
   "metadata": {},
   "outputs": [],
   "source": []
  }
 ],
 "metadata": {
  "kernelspec": {
   "display_name": "Python 3",
   "language": "python",
   "name": "python3"
  },
  "language_info": {
   "codemirror_mode": {
    "name": "ipython",
    "version": 3
   },
   "file_extension": ".py",
   "mimetype": "text/x-python",
   "name": "python",
   "nbconvert_exporter": "python",
   "pygments_lexer": "ipython3",
   "version": "3.7.3"
  }
 },
 "nbformat": 4,
 "nbformat_minor": 2
}
